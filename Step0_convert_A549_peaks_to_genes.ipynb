{
 "cells": [
  {
   "cell_type": "code",
   "execution_count": 1,
   "id": "3303c7cf",
   "metadata": {},
   "outputs": [],
   "source": [
    "from scipy.io import mmread\n",
    "import os\n",
    "import pandas as pd\n",
    "import numpy as np\n",
    " "
   ]
  },
  {
   "cell_type": "markdown",
   "id": "539898c1",
   "metadata": {},
   "source": [
    "## Load scATAC-seq peak count data"
   ]
  },
  {
   "cell_type": "code",
   "execution_count": 2,
   "id": "ad449a2c",
   "metadata": {
    "scrolled": true
   },
   "outputs": [
    {
     "data": {
      "text/plain": [
       "<189603x6085 sparse matrix of type '<class 'numpy.float64'>'\n",
       "\twith 1950459 stored elements in COOrdinate format>"
      ]
     },
     "execution_count": 2,
     "metadata": {},
     "output_type": "execute_result"
    }
   ],
   "source": [
    "# import scATAC-seq peak count matrix\n",
    "# NOTE: the original file is a .txt file in the MatrixMarket format\n",
    "# I just changed the .txt extension to .mtx \n",
    "os.chdir('C:/Users/lexie/Documents/SMU/super-test/paper-code/scGCN_tensorflow2/A549/')\n",
    "atac = mmread('GSM3271041_ATAC_sciCAR_A549_peak_countMAT.mtx')\n",
    "atac"
   ]
  },
  {
   "cell_type": "code",
   "execution_count": 3,
   "id": "90b1553d",
   "metadata": {},
   "outputs": [],
   "source": [
    "# convert ATAC-seq sparse matrix to dense matrix\n",
    "atac = atac.todense()"
   ]
  },
  {
   "cell_type": "code",
   "execution_count": 4,
   "id": "373af46d",
   "metadata": {},
   "outputs": [
    {
     "data": {
      "text/plain": [
       "numpy.matrix"
      ]
     },
     "execution_count": 4,
     "metadata": {},
     "output_type": "execute_result"
    }
   ],
   "source": [
    "# check dimensions of ATAC-seq peak count matrix\n",
    "atac.shape\n",
    "type(atac)"
   ]
  },
  {
   "cell_type": "markdown",
   "id": "8c6e2eee",
   "metadata": {},
   "source": [
    "## Load scATAC-seq peak information and cell labels"
   ]
  },
  {
   "cell_type": "code",
   "execution_count": 5,
   "id": "567f9c4d",
   "metadata": {
    "scrolled": true
   },
   "outputs": [
    {
     "data": {
      "text/html": [
       "<div>\n",
       "<style scoped>\n",
       "    .dataframe tbody tr th:only-of-type {\n",
       "        vertical-align: middle;\n",
       "    }\n",
       "\n",
       "    .dataframe tbody tr th {\n",
       "        vertical-align: top;\n",
       "    }\n",
       "\n",
       "    .dataframe thead th {\n",
       "        text-align: right;\n",
       "    }\n",
       "</style>\n",
       "<table border=\"1\" class=\"dataframe\">\n",
       "  <thead>\n",
       "    <tr style=\"text-align: right;\">\n",
       "      <th></th>\n",
       "      <th>sample</th>\n",
       "      <th>source</th>\n",
       "      <th>cell_name</th>\n",
       "      <th>treatment_time</th>\n",
       "      <th>experiment</th>\n",
       "    </tr>\n",
       "  </thead>\n",
       "  <tbody>\n",
       "    <tr>\n",
       "      <th>0</th>\n",
       "      <td>sci-RNA-A-071.AGGTCTATGG</td>\n",
       "      <td>Mouse</td>\n",
       "      <td>293T</td>\n",
       "      <td>999</td>\n",
       "      <td>co_assay</td>\n",
       "    </tr>\n",
       "    <tr>\n",
       "      <th>1</th>\n",
       "      <td>sci-RNA-A-071.GCGGAGTCGA</td>\n",
       "      <td>Human</td>\n",
       "      <td>A549</td>\n",
       "      <td>3</td>\n",
       "      <td>co_assay</td>\n",
       "    </tr>\n",
       "    <tr>\n",
       "      <th>2</th>\n",
       "      <td>sci-RNA-A-071.TTGCAGCATT</td>\n",
       "      <td>Human</td>\n",
       "      <td>A549</td>\n",
       "      <td>1</td>\n",
       "      <td>co_assay</td>\n",
       "    </tr>\n",
       "    <tr>\n",
       "      <th>3</th>\n",
       "      <td>sci-RNA-A-071.GCCTGATATA</td>\n",
       "      <td>Mouse</td>\n",
       "      <td>293T</td>\n",
       "      <td>999</td>\n",
       "      <td>co_assay</td>\n",
       "    </tr>\n",
       "    <tr>\n",
       "      <th>4</th>\n",
       "      <td>sci-RNA-A-071.GCGGCCAATC</td>\n",
       "      <td>Human</td>\n",
       "      <td>A549</td>\n",
       "      <td>3</td>\n",
       "      <td>co_assay</td>\n",
       "    </tr>\n",
       "    <tr>\n",
       "      <th>...</th>\n",
       "      <td>...</td>\n",
       "      <td>...</td>\n",
       "      <td>...</td>\n",
       "      <td>...</td>\n",
       "      <td>...</td>\n",
       "    </tr>\n",
       "    <tr>\n",
       "      <th>6080</th>\n",
       "      <td>sci-RNA-E-022.GAGGCTTATT</td>\n",
       "      <td>Human</td>\n",
       "      <td>293T</td>\n",
       "      <td>999</td>\n",
       "      <td>co_assay</td>\n",
       "    </tr>\n",
       "    <tr>\n",
       "      <th>6081</th>\n",
       "      <td>sci-RNA-E-022.TCTGACGAGG</td>\n",
       "      <td>Mouse</td>\n",
       "      <td>293T</td>\n",
       "      <td>999</td>\n",
       "      <td>co_assay</td>\n",
       "    </tr>\n",
       "    <tr>\n",
       "      <th>6082</th>\n",
       "      <td>sci-RNA-E-022.GCCTCAGCAT</td>\n",
       "      <td>Human</td>\n",
       "      <td>293T</td>\n",
       "      <td>999</td>\n",
       "      <td>co_assay</td>\n",
       "    </tr>\n",
       "    <tr>\n",
       "      <th>6083</th>\n",
       "      <td>sci-RNA-E-022.TCGGCGTCGT</td>\n",
       "      <td>Mouse</td>\n",
       "      <td>293T</td>\n",
       "      <td>999</td>\n",
       "      <td>co_assay</td>\n",
       "    </tr>\n",
       "    <tr>\n",
       "      <th>6084</th>\n",
       "      <td>sci-RNA-E-022.ACTCGACGCC</td>\n",
       "      <td>Human</td>\n",
       "      <td>A549</td>\n",
       "      <td>0</td>\n",
       "      <td>co_assay</td>\n",
       "    </tr>\n",
       "  </tbody>\n",
       "</table>\n",
       "<p>6085 rows × 5 columns</p>\n",
       "</div>"
      ],
      "text/plain": [
       "                        sample source cell_name  treatment_time experiment\n",
       "0     sci-RNA-A-071.AGGTCTATGG  Mouse      293T             999   co_assay\n",
       "1     sci-RNA-A-071.GCGGAGTCGA  Human      A549               3   co_assay\n",
       "2     sci-RNA-A-071.TTGCAGCATT  Human      A549               1   co_assay\n",
       "3     sci-RNA-A-071.GCCTGATATA  Mouse      293T             999   co_assay\n",
       "4     sci-RNA-A-071.GCGGCCAATC  Human      A549               3   co_assay\n",
       "...                        ...    ...       ...             ...        ...\n",
       "6080  sci-RNA-E-022.GAGGCTTATT  Human      293T             999   co_assay\n",
       "6081  sci-RNA-E-022.TCTGACGAGG  Mouse      293T             999   co_assay\n",
       "6082  sci-RNA-E-022.GCCTCAGCAT  Human      293T             999   co_assay\n",
       "6083  sci-RNA-E-022.TCGGCGTCGT  Mouse      293T             999   co_assay\n",
       "6084  sci-RNA-E-022.ACTCGACGCC  Human      A549               0   co_assay\n",
       "\n",
       "[6085 rows x 5 columns]"
      ]
     },
     "metadata": {},
     "output_type": "display_data"
    }
   ],
   "source": [
    "# import ATAC-seq peaks\n",
    "# NOTE: original .txt files were imported and formatted in excel, then saved as csv files\n",
    "# it was easier to separate columns by delimiters in excel than python\n",
    "ATACpeak_lab = pd.read_csv('ATAC_peaks.csv')\n",
    "\n",
    "# import ATAC-seq cell labels\n",
    "ATACcell_lab = pd.read_csv('ATAC_cells.csv')\n",
    "display(ATACcell_lab)"
   ]
  },
  {
   "cell_type": "markdown",
   "id": "5b13431b",
   "metadata": {},
   "source": [
    "## Filter out non-A549 cells in scATAC-seq data"
   ]
  },
  {
   "cell_type": "code",
   "execution_count": 6,
   "id": "343fa7da",
   "metadata": {},
   "outputs": [
    {
     "name": "stdout",
     "output_type": "stream",
     "text": [
      "(4258, 5)\n"
     ]
    },
    {
     "name": "stderr",
     "output_type": "stream",
     "text": [
      "C:\\Users\\lexie\\miniconda3\\lib\\site-packages\\pandas\\core\\indexes\\base.py:5055: FutureWarning: Using a non-tuple sequence for multidimensional indexing is deprecated; use `arr[tuple(seq)]` instead of `arr[seq]`. In the future this will be interpreted as an array index, `arr[np.array(seq)]`, which will result either in an error or a different result.\n",
      "  result = getitem(key)\n"
     ]
    }
   ],
   "source": [
    "# get the index of the cells that are A549\n",
    "include = ATACcell_lab.index[[ATACcell_lab['cell_name'] == 'A549']].tolist()\n",
    "\n",
    "# only keep the column labels corresponding to A549 cells\n",
    "ATACcell_lab = ATACcell_lab.iloc[include]\n",
    "print(ATACcell_lab.shape)\n"
   ]
  },
  {
   "cell_type": "code",
   "execution_count": 7,
   "id": "475bcc37",
   "metadata": {},
   "outputs": [],
   "source": [
    "# save out reduced ATAC-seq labels; reduced version only includes A549 cells\n",
    "# ATACcell_lab.to_csv('ATAC_cells_reduced.csv')"
   ]
  },
  {
   "cell_type": "code",
   "execution_count": 8,
   "id": "ce7a29b6",
   "metadata": {},
   "outputs": [
    {
     "ename": "MemoryError",
     "evalue": "Unable to allocate 6.02 GiB for an array with shape (4258, 189603) and data type float64",
     "output_type": "error",
     "traceback": [
      "\u001b[1;31m---------------------------------------------------------------------------\u001b[0m",
      "\u001b[1;31mMemoryError\u001b[0m                               Traceback (most recent call last)",
      "Input \u001b[1;32mIn [8]\u001b[0m, in \u001b[0;36m<cell line: 2>\u001b[1;34m()\u001b[0m\n\u001b[0;32m      1\u001b[0m \u001b[38;5;66;03m# only keep the column data correponding to gene counts for A549 cells\u001b[39;00m\n\u001b[1;32m----> 2\u001b[0m atac \u001b[38;5;241m=\u001b[39m \u001b[43matac\u001b[49m\u001b[43m[\u001b[49m\u001b[43m:\u001b[49m\u001b[43m,\u001b[49m\u001b[43minclude\u001b[49m\u001b[43m]\u001b[49m\n\u001b[0;32m      3\u001b[0m \u001b[38;5;28mprint\u001b[39m(atac\u001b[38;5;241m.\u001b[39mshape)\n\u001b[0;32m      4\u001b[0m \u001b[38;5;28mtype\u001b[39m(atac)\n",
      "File \u001b[1;32m~\\miniconda3\\lib\\site-packages\\numpy\\matrixlib\\defmatrix.py:193\u001b[0m, in \u001b[0;36mmatrix.__getitem__\u001b[1;34m(self, index)\u001b[0m\n\u001b[0;32m    190\u001b[0m \u001b[38;5;28mself\u001b[39m\u001b[38;5;241m.\u001b[39m_getitem \u001b[38;5;241m=\u001b[39m \u001b[38;5;28;01mTrue\u001b[39;00m\n\u001b[0;32m    192\u001b[0m \u001b[38;5;28;01mtry\u001b[39;00m:\n\u001b[1;32m--> 193\u001b[0m     out \u001b[38;5;241m=\u001b[39m \u001b[43mN\u001b[49m\u001b[38;5;241;43m.\u001b[39;49m\u001b[43mndarray\u001b[49m\u001b[38;5;241;43m.\u001b[39;49m\u001b[38;5;21;43m__getitem__\u001b[39;49m\u001b[43m(\u001b[49m\u001b[38;5;28;43mself\u001b[39;49m\u001b[43m,\u001b[49m\u001b[43m \u001b[49m\u001b[43mindex\u001b[49m\u001b[43m)\u001b[49m\n\u001b[0;32m    194\u001b[0m \u001b[38;5;28;01mfinally\u001b[39;00m:\n\u001b[0;32m    195\u001b[0m     \u001b[38;5;28mself\u001b[39m\u001b[38;5;241m.\u001b[39m_getitem \u001b[38;5;241m=\u001b[39m \u001b[38;5;28;01mFalse\u001b[39;00m\n",
      "\u001b[1;31mMemoryError\u001b[0m: Unable to allocate 6.02 GiB for an array with shape (4258, 189603) and data type float64"
     ]
    }
   ],
   "source": [
    "# only keep the column data correponding to gene counts for A549 cells\n",
    "atac = atac[:,include]\n",
    "print(atac.shape)\n",
    "type(atac)"
   ]
  },
  {
   "cell_type": "markdown",
   "id": "6b831441",
   "metadata": {},
   "source": [
    "##  Annotate scATAC-seq peaks with corresponding gene"
   ]
  },
  {
   "cell_type": "code",
   "execution_count": null,
   "id": "ee1eacba",
   "metadata": {
    "scrolled": false
   },
   "outputs": [],
   "source": [
    "# import annotations for the genes closest to each peak\n",
    "# tsv file is stored locally in the same directory as the other A549 files\n",
    "annot = pd.read_csv('peak_annot_df.tsv',sep = '\\t')\n",
    "display(annot)"
   ]
  },
  {
   "cell_type": "code",
   "execution_count": null,
   "id": "150be948",
   "metadata": {},
   "outputs": [],
   "source": [
    "# for each ATAC-seq peak recorded in the original data file, \n",
    "# find and add the name of the corresponding closest gene\n",
    "\n",
    "matched_gene = []\n",
    "for peak in range(ATACpeak_lab.shape[0]):\n",
    "    thispeak = ATACpeak_lab.iloc[peak,:]\n",
    "    temp_match = []\n",
    "    match = []\n",
    "    \n",
    "    # match the start of the peak to entries in the annot file\n",
    "    if any(thispeak['start']  == annot['start']):\n",
    "        temp_match = annot.loc[thispeak['start']  == annot['start']]\n",
    "        \n",
    "        # of the potential matches for 'start', find the entry that matches 'end'\n",
    "        match = temp_match[temp_match['end']  == thispeak['end']]\n",
    "        # if there are multiple entries with same start and end but we just use the first of the matches\n",
    "        if len(match)>1:\n",
    "            match = match.iloc[[0]]\n",
    "            \n",
    "        # get the name of the closest gene and add it to list\n",
    "        if match.empty:\n",
    "            matched_gene.append('null')\n",
    "        else:\n",
    "            matched_gene.append(match['gene_name'].values[0]) \n",
    "        \n",
    "    # if a peak does not have annot entry, add null\n",
    "    else: \n",
    "        matched_gene.append('null')\n",
    "            \n",
    "    \n",
    "ATACpeak_lab.insert(0,'gene', matched_gene)\n",
    "ATACpeak_lab\n",
    "\n",
    "# save out new data peaks file with annotations \n",
    "# ATACpeak_lab.to_csv('ATAC_peaks_data_annot.csv')\n"
   ]
  }
 ],
 "metadata": {
  "kernelspec": {
   "display_name": "Python 3 (ipykernel)",
   "language": "python",
   "name": "python3"
  },
  "language_info": {
   "codemirror_mode": {
    "name": "ipython",
    "version": 3
   },
   "file_extension": ".py",
   "mimetype": "text/x-python",
   "name": "python",
   "nbconvert_exporter": "python",
   "pygments_lexer": "ipython3",
   "version": "3.9.7"
  },
  "vscode": {
   "interpreter": {
    "hash": "362196ff508679414a11aa87f75df54ed4c8088d3b2deddc7b1e5bcd5070bfdc"
   }
  }
 },
 "nbformat": 4,
 "nbformat_minor": 5
}
