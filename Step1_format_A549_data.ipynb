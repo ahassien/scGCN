{
 "cells": [
  {
   "cell_type": "code",
   "execution_count": 1,
   "id": "58b19526",
   "metadata": {},
   "outputs": [],
   "source": [
    "from scipy.io import mmread\n",
    "import os\n",
    "import pandas as pd\n",
    "import numpy as np\n",
    " "
   ]
  },
  {
   "cell_type": "markdown",
   "id": "04694c79",
   "metadata": {},
   "source": [
    "## Load gene and peak count data"
   ]
  },
  {
   "cell_type": "code",
   "execution_count": 2,
   "id": "f42308a3",
   "metadata": {},
   "outputs": [
    {
     "data": {
      "text/plain": [
       "<189603x6085 sparse matrix of type '<class 'numpy.float64'>'\n",
       "\twith 1950459 stored elements in COOrdinate format>"
      ]
     },
     "metadata": {},
     "output_type": "display_data"
    },
    {
     "data": {
      "text/plain": [
       "<113153x6093 sparse matrix of type '<class 'numpy.int64'>'\n",
       "\twith 9251101 stored elements in COOrdinate format>"
      ]
     },
     "metadata": {},
     "output_type": "display_data"
    }
   ],
   "source": [
    "# import scRNA-seq gene count data matrix and scATAC-seq peak count data matrix\n",
    "# NOTE: the original file is a .txt file in the MatrixMarket format\n",
    "# I just changed the .txt extension to .mtx \n",
    "os.chdir('C:/Users/lexie/Documents/SMU/super-test/paper-code/scGCN_tensorflow2/A549/')\n",
    "rna = mmread('GSM3271040_RNA_sciCAR_A549_gene_countMAT.mtx')\n",
    "atac = mmread('GSM3271041_ATAC_sciCAR_A549_peak_countMAT.mtx')\n",
    "display(atac)\n",
    "display(rna)"
   ]
  },
  {
   "cell_type": "code",
   "execution_count": 3,
   "id": "c62e2699",
   "metadata": {},
   "outputs": [
    {
     "ename": "MemoryError",
     "evalue": "Unable to allocate 8.60 GiB for an array with shape (189603, 6085) and data type float64",
     "output_type": "error",
     "traceback": [
      "\u001b[1;31m---------------------------------------------------------------------------\u001b[0m",
      "\u001b[1;31mMemoryError\u001b[0m                               Traceback (most recent call last)",
      "Input \u001b[1;32mIn [3]\u001b[0m, in \u001b[0;36m<cell line: 3>\u001b[1;34m()\u001b[0m\n\u001b[0;32m      1\u001b[0m \u001b[38;5;66;03m# convert RNA and ATAC sparse matrix to dense matrix\u001b[39;00m\n\u001b[0;32m      2\u001b[0m rna \u001b[38;5;241m=\u001b[39m rna\u001b[38;5;241m.\u001b[39mtodense()\n\u001b[1;32m----> 3\u001b[0m atac \u001b[38;5;241m=\u001b[39m \u001b[43matac\u001b[49m\u001b[38;5;241;43m.\u001b[39;49m\u001b[43mtodense\u001b[49m\u001b[43m(\u001b[49m\u001b[43m)\u001b[49m\n",
      "File \u001b[1;32m~\\miniconda3\\lib\\site-packages\\scipy\\sparse\\_base.py:946\u001b[0m, in \u001b[0;36mspmatrix.todense\u001b[1;34m(self, order, out)\u001b[0m\n\u001b[0;32m    916\u001b[0m \u001b[38;5;28;01mdef\u001b[39;00m \u001b[38;5;21mtodense\u001b[39m(\u001b[38;5;28mself\u001b[39m, order\u001b[38;5;241m=\u001b[39m\u001b[38;5;28;01mNone\u001b[39;00m, out\u001b[38;5;241m=\u001b[39m\u001b[38;5;28;01mNone\u001b[39;00m):\n\u001b[0;32m    917\u001b[0m     \u001b[38;5;124;03m\"\"\"\u001b[39;00m\n\u001b[0;32m    918\u001b[0m \u001b[38;5;124;03m    Return a dense matrix representation of this matrix.\u001b[39;00m\n\u001b[0;32m    919\u001b[0m \n\u001b[1;32m   (...)\u001b[0m\n\u001b[0;32m    944\u001b[0m \u001b[38;5;124;03m        `numpy.matrix` object that shares the same memory.\u001b[39;00m\n\u001b[0;32m    945\u001b[0m \u001b[38;5;124;03m    \"\"\"\u001b[39;00m\n\u001b[1;32m--> 946\u001b[0m     \u001b[38;5;28;01mreturn\u001b[39;00m \u001b[38;5;28mself\u001b[39m\u001b[38;5;241m.\u001b[39m_ascontainer(\u001b[38;5;28;43mself\u001b[39;49m\u001b[38;5;241;43m.\u001b[39;49m\u001b[43mtoarray\u001b[49m\u001b[43m(\u001b[49m\u001b[43morder\u001b[49m\u001b[38;5;241;43m=\u001b[39;49m\u001b[43morder\u001b[49m\u001b[43m,\u001b[49m\u001b[43m \u001b[49m\u001b[43mout\u001b[49m\u001b[38;5;241;43m=\u001b[39;49m\u001b[43mout\u001b[49m\u001b[43m)\u001b[49m)\n",
      "File \u001b[1;32m~\\miniconda3\\lib\\site-packages\\scipy\\sparse\\_coo.py:322\u001b[0m, in \u001b[0;36mcoo_matrix.toarray\u001b[1;34m(self, order, out)\u001b[0m\n\u001b[0;32m    320\u001b[0m \u001b[38;5;28;01mdef\u001b[39;00m \u001b[38;5;21mtoarray\u001b[39m(\u001b[38;5;28mself\u001b[39m, order\u001b[38;5;241m=\u001b[39m\u001b[38;5;28;01mNone\u001b[39;00m, out\u001b[38;5;241m=\u001b[39m\u001b[38;5;28;01mNone\u001b[39;00m):\n\u001b[0;32m    321\u001b[0m     \u001b[38;5;124;03m\"\"\"See the docstring for `spmatrix.toarray`.\"\"\"\u001b[39;00m\n\u001b[1;32m--> 322\u001b[0m     B \u001b[38;5;241m=\u001b[39m \u001b[38;5;28;43mself\u001b[39;49m\u001b[38;5;241;43m.\u001b[39;49m\u001b[43m_process_toarray_args\u001b[49m\u001b[43m(\u001b[49m\u001b[43morder\u001b[49m\u001b[43m,\u001b[49m\u001b[43m \u001b[49m\u001b[43mout\u001b[49m\u001b[43m)\u001b[49m\n\u001b[0;32m    323\u001b[0m     fortran \u001b[38;5;241m=\u001b[39m \u001b[38;5;28mint\u001b[39m(B\u001b[38;5;241m.\u001b[39mflags\u001b[38;5;241m.\u001b[39mf_contiguous)\n\u001b[0;32m    324\u001b[0m     \u001b[38;5;28;01mif\u001b[39;00m \u001b[38;5;129;01mnot\u001b[39;00m fortran \u001b[38;5;129;01mand\u001b[39;00m \u001b[38;5;129;01mnot\u001b[39;00m B\u001b[38;5;241m.\u001b[39mflags\u001b[38;5;241m.\u001b[39mc_contiguous:\n",
      "File \u001b[1;32m~\\miniconda3\\lib\\site-packages\\scipy\\sparse\\_base.py:1298\u001b[0m, in \u001b[0;36mspmatrix._process_toarray_args\u001b[1;34m(self, order, out)\u001b[0m\n\u001b[0;32m   1296\u001b[0m     \u001b[38;5;28;01mreturn\u001b[39;00m out\n\u001b[0;32m   1297\u001b[0m \u001b[38;5;28;01melse\u001b[39;00m:\n\u001b[1;32m-> 1298\u001b[0m     \u001b[38;5;28;01mreturn\u001b[39;00m \u001b[43mnp\u001b[49m\u001b[38;5;241;43m.\u001b[39;49m\u001b[43mzeros\u001b[49m\u001b[43m(\u001b[49m\u001b[38;5;28;43mself\u001b[39;49m\u001b[38;5;241;43m.\u001b[39;49m\u001b[43mshape\u001b[49m\u001b[43m,\u001b[49m\u001b[43m \u001b[49m\u001b[43mdtype\u001b[49m\u001b[38;5;241;43m=\u001b[39;49m\u001b[38;5;28;43mself\u001b[39;49m\u001b[38;5;241;43m.\u001b[39;49m\u001b[43mdtype\u001b[49m\u001b[43m,\u001b[49m\u001b[43m \u001b[49m\u001b[43morder\u001b[49m\u001b[38;5;241;43m=\u001b[39;49m\u001b[43morder\u001b[49m\u001b[43m)\u001b[49m\n",
      "\u001b[1;31mMemoryError\u001b[0m: Unable to allocate 8.60 GiB for an array with shape (189603, 6085) and data type float64"
     ]
    }
   ],
   "source": [
    "# convert RNA and ATAC sparse matrix to dense matrix\n",
    "rna = rna.todense()\n",
    "atac = atac.todense()"
   ]
  },
  {
   "cell_type": "code",
   "execution_count": null,
   "id": "88663f43",
   "metadata": {},
   "outputs": [],
   "source": [
    "# check dimensions of RNA and ATAC data matrix\n",
    "# columns are cells\n",
    "print('Shape of RNA data matrix: ',rna.shape)\n",
    "print('Shape of ATAC data matrix: ',atac.shape)"
   ]
  },
  {
   "cell_type": "markdown",
   "id": "54e9e725",
   "metadata": {},
   "source": [
    "## Load scRNA-seq cell labels"
   ]
  },
  {
   "cell_type": "code",
   "execution_count": null,
   "id": "b5f433e4",
   "metadata": {},
   "outputs": [],
   "source": [
    "# import RNA-seq cell labels\n",
    "# rows are cells\n",
    "RNAcell_lab = pd.read_csv('GSM3271040_RNA_sciCAR_A549_cell.txt', sep = ',')\n",
    "display(RNAcell_lab)"
   ]
  },
  {
   "cell_type": "markdown",
   "id": "43ce8082",
   "metadata": {},
   "source": [
    "## Filter out non-A549 cells in scRNA-seq data"
   ]
  },
  {
   "cell_type": "code",
   "execution_count": null,
   "id": "73d82bff",
   "metadata": {},
   "outputs": [],
   "source": [
    "# get the index of the cells that are A549\n",
    "include = RNAcell_lab.index[[RNAcell_lab['cell_name'] == 'A549']].tolist()\n",
    "\n",
    "# only keep the column labels corresponding to A549 cells\n",
    "RNAcell_lab = RNAcell_lab.iloc[include]\n",
    "print('New shape of RNA cell label dataframe: ',RNAcell_lab.shape)\n",
    "display(RNAcell_lab)"
   ]
  },
  {
   "cell_type": "code",
   "execution_count": null,
   "id": "240fe257",
   "metadata": {},
   "outputs": [],
   "source": [
    "# only keep the RNA column data correponding to gene counts for A549 cells\n",
    "# rows are genes\n",
    "# columns are cells\n",
    "rna = rna[:,include]\n",
    "print('New shape of RNA data matrix: ',rna.shape)"
   ]
  },
  {
   "cell_type": "markdown",
   "id": "207d8ddf",
   "metadata": {},
   "source": [
    "## Cross-reference cell names between scRNA-seq and scATAC-seq"
   ]
  },
  {
   "cell_type": "code",
   "execution_count": null,
   "id": "e05b8c10",
   "metadata": {},
   "outputs": [],
   "source": [
    "# import ATAC-seq data and cell labels\n",
    "ATACcell_lab = pd.read_csv('ATAC_cells_reduced.csv')\n",
    "display(ATACcell_lab)"
   ]
  },
  {
   "cell_type": "code",
   "execution_count": null,
   "id": "c8870de8",
   "metadata": {},
   "outputs": [],
   "source": [
    "# only keep cells that are common to both RNA-seq data and ATAC-seq data\n",
    "# since RNA data has more cells, loop through cells and make sure it has a counterpart in the ATAC cell labels\n",
    "\n",
    "match = []\n",
    "atac_match = []\n",
    "for cell in range(RNAcell_lab.shape[0]):\n",
    "    thiscell = RNAcell_lab.iloc[cell,:]\n",
    "    \n",
    "    if thiscell['sample'] in list(ATACcell_lab['sample']):\n",
    "        match.append(cell)\n",
    "        \n",
    "        # find the index of this cell in the ATAC data\n",
    "        atac_match.append(ATACcell_lab.index[ATACcell_lab['sample']==thiscell['sample']].to_list())\n",
    "        \n",
    "    else:\n",
    "        continue\n",
    "\n",
    "# if there is no match between RNA and ATAC cell label, remove that row and corresponding column in the RNA data\n",
    "RNAcell_red = RNAcell_lab.iloc[match]\n",
    "print('New shape of RNA cell dataframe: ',RNAcell_red.shape)\n",
    "\n",
    "atac_match = np.concatenate(atac_match)\n",
    "print(atac_match)"
   ]
  },
  {
   "cell_type": "code",
   "execution_count": null,
   "id": "aeb1c87b",
   "metadata": {},
   "outputs": [],
   "source": [
    "# only keep the column data correponding to gene counts for matched cells\n",
    "rna = rna[:,match]\n",
    "print('New shape of RNA data matrix: ',rna.shape)\n",
    "type(rna)"
   ]
  },
  {
   "cell_type": "code",
   "execution_count": null,
   "id": "9c76eb75",
   "metadata": {},
   "outputs": [],
   "source": [
    "# create new ATAC cell and data matrices based on the corresponding RNA cells\n",
    "# use the indices found from atac_match \n",
    "# in other words, only keep cells that are common to both RNA-seq data and ATAC-seq data\n",
    "\n",
    "ATACcell_red = ATACcell_lab.iloc[atac_match]\n",
    "display(ATACcell_red)\n",
    "print('New shape of ATAC cell label dataframe: ',ATACcell_red.shape)\n",
    "\n",
    "atac = atac[:,atac_match]\n",
    "print('\\n New shape of ATAC data matrix: ',atac.shape)\n",
    "type(atac)\n"
   ]
  },
  {
   "cell_type": "code",
   "execution_count": null,
   "id": "0589a827",
   "metadata": {},
   "outputs": [],
   "source": [
    "# sanity check: \n",
    "# make sure sample names in ATAC and RNA cells are the same for each row\n",
    "print(ATACcell_red['sample'].to_list() == RNAcell_red['sample'].to_list())\n",
    "\n",
    "# spot check\n",
    "print(ATACcell_red['sample'].to_list()[120])\n",
    "print(RNAcell_red['sample'].to_list()[120])\n",
    "\n",
    "# save out reduced cell labels\n",
    "# reduced version only includes matched cells\n",
    "ATACcell_red.to_csv('ATAC_cells_reduced.csv')\n",
    "RNAcell_red.to_csv('RNA_cells_reduced.csv')"
   ]
  },
  {
   "cell_type": "code",
   "execution_count": null,
   "id": "e25634bc",
   "metadata": {},
   "outputs": [],
   "source": [
    "# again double-check that the treatment times are the same for both datasets\n",
    "alabels = ATACcell_red['treatment_time'].to_list()\n",
    "rlabels = RNAcell_red['treatment_time'].to_list()\n",
    "print(alabels == rlabels)\n",
    "\n",
    "\n",
    "# save a list of the treatment time for each cell\n",
    "# reference is first\n",
    "labellist = [rlabels,alabels]\n",
    "print(len(labellist[0]))\n",
    "print(len(labellist[1]))\n",
    "\n",
    "# np.savetxt('label_list.csv', labellist, delimiter=',')"
   ]
  },
  {
   "cell_type": "code",
   "execution_count": null,
   "id": "8ec201ca",
   "metadata": {},
   "outputs": [],
   "source": [
    "ATACcell_red['sample']"
   ]
  },
  {
   "cell_type": "code",
   "execution_count": null,
   "id": "01808cee",
   "metadata": {},
   "outputs": [],
   "source": [
    "# save out cell names\n",
    "#np.savetxt('cell_list.csv', list(ATACcell_red['sample']), delimiter=',', fmt = '%s')"
   ]
  },
  {
   "cell_type": "markdown",
   "id": "44b7e69f",
   "metadata": {},
   "source": [
    "## Cross-reference gene and peak labels"
   ]
  },
  {
   "cell_type": "code",
   "execution_count": null,
   "id": "f3c1f05b",
   "metadata": {},
   "outputs": [],
   "source": [
    "# import RNA-seq genes\n",
    "RNAgene_lab = pd.read_csv('GSM3271040_RNA_sciCAR_A549_gene.txt', sep = ',')\n",
    "display(RNAgene_lab)"
   ]
  },
  {
   "cell_type": "code",
   "execution_count": null,
   "id": "e21580d4",
   "metadata": {},
   "outputs": [],
   "source": [
    "# import annotated ATAC-seq peaks\n",
    "ATACpeak_lab = pd.read_csv('ATAC_peaks_data_annot.csv', sep = ',')\n",
    "display(ATACpeak_lab)"
   ]
  },
  {
   "cell_type": "code",
   "execution_count": null,
   "id": "1496bd24",
   "metadata": {
    "scrolled": true
   },
   "outputs": [],
   "source": [
    "# cross-reference gene names\n",
    "# of the gene labels in the RNA data, find which are also in the ATAC data\n",
    "\n",
    "# get the original index of the gene names\n",
    "ind_dict = dict((k,i) for i,k in enumerate(RNAgene_lab['gene_short_name']))\n",
    "\n",
    "# find the common gene names\n",
    "gene_match = set(RNAgene_lab['gene_short_name']).intersection(ATACpeak_lab['gene'])\n",
    "print('Number of gene matches: ',len(gene_match))\n",
    "\n",
    "# find the indices of the common genes in the original RNAgene_red \n",
    "keep = [ind_dict[x] for x in gene_match]\n",
    "\n",
    "# only keep the genes that are in both the RNA and ATAC data\n",
    "RNAgene_red = RNAgene_lab.iloc[keep]\n",
    "print('\\n New shape of RNA gene label dataframe: ', RNAgene_red.shape)\n",
    "\n",
    "rna = rna[keep,:]\n",
    "print('\\n New shape of RNA data matrix: ', rna.shape)"
   ]
  },
  {
   "cell_type": "code",
   "execution_count": null,
   "id": "92e9c5a0",
   "metadata": {},
   "outputs": [],
   "source": [
    "# save out reduced RNA-seq gene labels reduced version only includes matched genes\n",
    "# RNAgene_red.to_csv('RNA_genes_reduced.csv')"
   ]
  },
  {
   "cell_type": "code",
   "execution_count": null,
   "id": "35b20670",
   "metadata": {},
   "outputs": [],
   "source": [
    "# save out reduced RNA data\n",
    "# reduced version only includes matched genes and matched cells\n",
    "# np.savetxt(\"RNA_data_reduced.csv\", rna, delimiter=\",\")"
   ]
  },
  {
   "cell_type": "code",
   "execution_count": null,
   "id": "732fcfa1",
   "metadata": {},
   "outputs": [],
   "source": [
    "# save out gene short names\n",
    "# np.savetxt(\"gene_list.csv\", RNAgene_red['gene_short_name'], delimiter=\",\", fmt = '%s')"
   ]
  },
  {
   "cell_type": "code",
   "execution_count": null,
   "id": "e955708e",
   "metadata": {},
   "outputs": [],
   "source": [
    "# check for duplicates in ATAC peak labels\n",
    "\n",
    "# find how many duplicate annotated genes are in the ATAC seq gene labels\n",
    "rep = sum(ATACpeak_lab.gene.duplicated())\n",
    "print('Number of duplicate annotated genes in ATAC peak labels: ', rep)\n",
    "\n",
    "# sanity check: how many unique items\n",
    "uni = len(set(ATACpeak_lab['gene']))\n",
    "print('\\n Number of unique items: ', uni)\n",
    "\n",
    "print('\\n Sum = ',rep + uni)\n",
    "rep + uni == ATACpeak_lab.shape[0]"
   ]
  },
  {
   "cell_type": "code",
   "execution_count": null,
   "id": "f2f08176",
   "metadata": {},
   "outputs": [],
   "source": [
    "# find how many duplicate annotated genes are in the RNA seq gene labels\n",
    "# there should be 0\n",
    "\n",
    "rep = sum(RNAgene_red.gene_short_name.duplicated())\n",
    "print('Number of duplicate genes in RNA seq gene labels: ', rep)"
   ]
  },
  {
   "cell_type": "markdown",
   "id": "f9b5f740",
   "metadata": {},
   "source": [
    "## Convert scATAC-seq data to gene-based activity"
   ]
  },
  {
   "cell_type": "code",
   "execution_count": null,
   "id": "07547f4f",
   "metadata": {},
   "outputs": [],
   "source": [
    "# for each gene in the RNA data, find entries for that gene in ATAC peaks\n",
    "# if there are multiple entries for a gene in ATAC data, take the sum as the value for the gene count\n",
    "# save these values in a new matrix as the new ATAC data\n",
    "\n",
    "atac_match_sum = []\n",
    "atac_match_idx = []\n",
    "for gene in range(RNAgene_red.shape[0]):\n",
    "    thisgene = RNAgene_red.iloc[gene,:]\n",
    "    matches = []\n",
    "    \n",
    "    # find entries in the ATAC labels that match this gene\n",
    "    # note: there may be multiple\n",
    "    matches = ATACpeak_lab.index[ATACpeak_lab['gene'] == thisgene['gene_short_name']].tolist()\n",
    "    \n",
    "    # if this gene in the RNA data has a match or matches in the ATAC data, \n",
    "    # create a new dataframe with the ATAC information\n",
    "    if matches:\n",
    "        # get the corresponding count data for the matches\n",
    "        atac_match_idx.append(matches)\n",
    "        atac_match_sum.append(atac[matches,:].sum(axis=0))\n",
    "\n",
    "print(atac_match_idx)\n",
    "print('\\n Number of gene matches: ', len(atac_match_idx))\n",
    "print('\\n Number of rows in atac match sum: ', len(atac_match_sum))\n",
    "print('\\n Number of columns in atac match sum: ', atac_match_sum[0].shape[1])\n",
    "atac_red = np.stack(atac_match_sum, axis=0)\n",
    "#atac_red"
   ]
  },
  {
   "cell_type": "code",
   "execution_count": null,
   "id": "d0c9bc00",
   "metadata": {},
   "outputs": [],
   "source": [
    "# save out reduced ATAC data\n",
    "# reduced version only includes matched genes and matched cells\n",
    "# np.savetxt(\"ATAC_data_reduced.csv\", atac_red, delimiter=\",\")"
   ]
  },
  {
   "cell_type": "code",
   "execution_count": null,
   "id": "7105e63f",
   "metadata": {},
   "outputs": [],
   "source": [
    "# double-check the shapes of the RNA and ATAC data\n",
    "# they should be the same\n",
    "print(atac_red.shape)\n",
    "print(rna.shape)\n"
   ]
  }
 ],
 "metadata": {
  "kernelspec": {
   "display_name": "Python 3 (ipykernel)",
   "language": "python",
   "name": "python3"
  },
  "language_info": {
   "codemirror_mode": {
    "name": "ipython",
    "version": 3
   },
   "file_extension": ".py",
   "mimetype": "text/x-python",
   "name": "python",
   "nbconvert_exporter": "python",
   "pygments_lexer": "ipython3",
   "version": "3.9.7"
  },
  "vscode": {
   "interpreter": {
    "hash": "362196ff508679414a11aa87f75df54ed4c8088d3b2deddc7b1e5bcd5070bfdc"
   }
  }
 },
 "nbformat": 4,
 "nbformat_minor": 5
}
